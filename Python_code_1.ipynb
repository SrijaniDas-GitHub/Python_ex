{
 "cells": [
  {
   "cell_type": "markdown",
   "metadata": {},
   "source": [
    "# Content\n",
    "\n",
    "1. Printing Factors\n",
    "2. GCD - Greatest Common Divisor\n",
    "3. LCM\n",
    "4. k-th largest in list\n",
    "5. Fibonacci\n",
    "6. Prime Number\n",
    "7. Factorial\n",
    "8. Palindrome\n",
    "9. Perfecr Number\n",
    "10. Pattern Printing"
   ]
  },
  {
   "cell_type": "markdown",
   "metadata": {},
   "source": [
    "##### Printing Factors"
   ]
  },
  {
   "cell_type": "code",
   "execution_count": 35,
   "metadata": {},
   "outputs": [],
   "source": [
    "import math\n",
    "def get_factors(n):\n",
    "    fact = []\n",
    "    for i in range(1,int(math.sqrt(n))+1):\n",
    "        if n%i == 0:\n",
    "            fact.append(i)\n",
    "            if i != int(n/i):\n",
    "                fact.append(int(n/i))\n",
    "    print(sorted(fact))\n",
    "        "
   ]
  },
  {
   "cell_type": "code",
   "execution_count": 36,
   "metadata": {},
   "outputs": [
    {
     "name": "stdout",
     "output_type": "stream",
     "text": [
      "[1, 2, 3, 4, 6, 12]\n"
     ]
    }
   ],
   "source": [
    "get_factors(12)"
   ]
  },
  {
   "cell_type": "code",
   "execution_count": 37,
   "metadata": {},
   "outputs": [
    {
     "name": "stdout",
     "output_type": "stream",
     "text": [
      "[1, 2, 4, 5, 10, 20, 25, 50, 100]\n"
     ]
    }
   ],
   "source": [
    "get_factors(100)"
   ]
  },
  {
   "cell_type": "code",
   "execution_count": 38,
   "metadata": {},
   "outputs": [
    {
     "name": "stdout",
     "output_type": "stream",
     "text": [
      "[1, 3, 5, 15]\n"
     ]
    }
   ],
   "source": [
    "get_factors(15)"
   ]
  },
  {
   "cell_type": "markdown",
   "metadata": {},
   "source": [
    "##### GCD - Greated Common Divisor"
   ]
  },
  {
   "cell_type": "code",
   "execution_count": 47,
   "metadata": {},
   "outputs": [],
   "source": [
    "import math\n",
    "def get_GCD(p,q):\n",
    "    lis = [p,q]\n",
    "    large = max(lis)\n",
    "    lis.remove(max(lis))\n",
    "    small = lis[0]\n",
    "    \n",
    "    \n",
    "    fact = []\n",
    "    for i in range(1,int(math.sqrt(small))+1):\n",
    "        if small%i == 0:\n",
    "            fact.append(i)\n",
    "            if i != int(small/i):\n",
    "                fact.append(int(small/i))\n",
    "                \n",
    "    desc_fact = sorted(fact, reverse=True)\n",
    "    \n",
    "    for j in desc_fact:\n",
    "        if large%j == 0:\n",
    "            print(\"GCD : \", j)\n",
    "            break"
   ]
  },
  {
   "cell_type": "code",
   "execution_count": 51,
   "metadata": {},
   "outputs": [
    {
     "name": "stdout",
     "output_type": "stream",
     "text": [
      "GCD :  12\n"
     ]
    }
   ],
   "source": [
    "get_GCD(24,12)"
   ]
  },
  {
   "cell_type": "code",
   "execution_count": 53,
   "metadata": {},
   "outputs": [
    {
     "name": "stdout",
     "output_type": "stream",
     "text": [
      "GCD :  5\n"
     ]
    }
   ],
   "source": [
    "get_GCD(15,10)"
   ]
  },
  {
   "cell_type": "markdown",
   "metadata": {},
   "source": [
    "##### LCM"
   ]
  },
  {
   "cell_type": "code",
   "execution_count": 54,
   "metadata": {},
   "outputs": [],
   "source": [
    "import math\n",
    "def get_LCM(p,q):\n",
    "    lis = [p,q]\n",
    "    large = max(lis)\n",
    "    lis.remove(max(lis))\n",
    "    small = lis[0]\n",
    "    \n",
    "    \n",
    "    fact = []\n",
    "    for i in range(1,int(math.sqrt(small))+1):\n",
    "        if small%i == 0:\n",
    "            fact.append(i)\n",
    "            if i != int(small/i):\n",
    "                fact.append(int(small/i))\n",
    "                \n",
    "    desc_fact = sorted(fact, reverse=True)\n",
    "    \n",
    "    for j in desc_fact:\n",
    "        if large%j == 0:\n",
    "            print(\"LCM : \", int(p*q/j))\n",
    "            break"
   ]
  },
  {
   "cell_type": "code",
   "execution_count": 55,
   "metadata": {},
   "outputs": [
    {
     "name": "stdout",
     "output_type": "stream",
     "text": [
      "LCM :  12\n"
     ]
    }
   ],
   "source": [
    "get_LCM(12,4)"
   ]
  },
  {
   "cell_type": "markdown",
   "metadata": {},
   "source": [
    "##### k-th largest in list"
   ]
  },
  {
   "cell_type": "code",
   "execution_count": 64,
   "metadata": {},
   "outputs": [],
   "source": [
    "def get_nth_largest(n, lis):\n",
    "    new_list = sorted(list(set(lis)), reverse=True)\n",
    "    if n>=1 and n<=len(new_list):\n",
    "        print(new_list[n-1])\n",
    "    else:\n",
    "        print(\"t\")"
   ]
  },
  {
   "cell_type": "code",
   "execution_count": 65,
   "metadata": {},
   "outputs": [
    {
     "name": "stdout",
     "output_type": "stream",
     "text": [
      "3\n"
     ]
    }
   ],
   "source": [
    "get_nth_largest(3, [1,2,2,3,3,3,4,4,4,4,5,0])"
   ]
  },
  {
   "cell_type": "code",
   "execution_count": 66,
   "metadata": {},
   "outputs": [
    {
     "name": "stdout",
     "output_type": "stream",
     "text": [
      "0\n"
     ]
    }
   ],
   "source": [
    "get_nth_largest(6, [1,2,2,3,3,3,4,4,4,4,5,0])"
   ]
  },
  {
   "cell_type": "code",
   "execution_count": 67,
   "metadata": {},
   "outputs": [
    {
     "name": "stdout",
     "output_type": "stream",
     "text": [
      "t\n"
     ]
    }
   ],
   "source": [
    "get_nth_largest(7, [1,2,2,3,3,3,4,4,4,4,5,0])"
   ]
  },
  {
   "cell_type": "code",
   "execution_count": 68,
   "metadata": {},
   "outputs": [
    {
     "name": "stdout",
     "output_type": "stream",
     "text": [
      "t\n"
     ]
    }
   ],
   "source": [
    "get_nth_largest(0, [1,2,2,3,3,3,4,4,4,4,5,0])"
   ]
  },
  {
   "cell_type": "markdown",
   "metadata": {},
   "source": [
    "##### Print pattern"
   ]
  },
  {
   "cell_type": "code",
   "execution_count": 69,
   "metadata": {},
   "outputs": [
    {
     "name": "stdout",
     "output_type": "stream",
     "text": [
      "0000\n",
      "0110\n",
      "0110\n",
      "0000\n"
     ]
    }
   ],
   "source": [
    "for i in range(4):\n",
    "    for j in range(4):\n",
    "        if i in [1,2] and j in [1,2]:\n",
    "            print(\"1\", end=\"\")\n",
    "        else:\n",
    "            print(\"0\", end=\"\")\n",
    "    print()"
   ]
  },
  {
   "cell_type": "markdown",
   "metadata": {},
   "source": [
    "##### Letter Printing"
   ]
  },
  {
   "cell_type": "code",
   "execution_count": 72,
   "metadata": {},
   "outputs": [
    {
     "name": "stdout",
     "output_type": "stream",
     "text": [
      " ** \n",
      "*  *\n",
      "*  *\n",
      "****\n",
      "*  *\n",
      "*  *\n"
     ]
    }
   ],
   "source": [
    "for i in range(6):\n",
    "    for j in range(4):\n",
    "        if i in [0,3] and j in [1,2]:\n",
    "            print(\"*\", end=\"\")\n",
    "        elif j in [0,3] and i != 0:\n",
    "            print(\"*\", end=\"\")\n",
    "        else:\n",
    "            print(\" \", end=\"\")\n",
    "    print()\n",
    "        \n",
    "            "
   ]
  },
  {
   "cell_type": "markdown",
   "metadata": {},
   "source": [
    "##### Fibonacci"
   ]
  },
  {
   "cell_type": "code",
   "execution_count": 73,
   "metadata": {},
   "outputs": [],
   "source": [
    "def fib(n):\n",
    "    if n==0:\n",
    "        return 0\n",
    "    elif n==1:\n",
    "        return 1\n",
    "    else:\n",
    "        prev1= fib(n-1)\n",
    "        prev2= fib(n-2)\n",
    "        fib_val = prev1 + prev2\n",
    "        return(fib_val)"
   ]
  },
  {
   "cell_type": "code",
   "execution_count": 74,
   "metadata": {},
   "outputs": [
    {
     "name": "stdout",
     "output_type": "stream",
     "text": [
      "0\n",
      "1\n",
      "1\n",
      "2\n",
      "3\n",
      "5\n"
     ]
    }
   ],
   "source": [
    "for i in range(6):\n",
    "    print(fib(i))"
   ]
  },
  {
   "cell_type": "markdown",
   "metadata": {},
   "source": [
    "##### Prime Number"
   ]
  },
  {
   "cell_type": "code",
   "execution_count": 81,
   "metadata": {},
   "outputs": [],
   "source": [
    "import math\n",
    "def is_prime(n):\n",
    "    fact = []\n",
    "    for i in range(1,int(math.sqrt(n))+1):\n",
    "        if n%i == 0:\n",
    "            fact.append(i)\n",
    "            if i != int(n/i):\n",
    "                fact.append(int(n/i))\n",
    "    if n == 1:\n",
    "        print(False)\n",
    "    else:\n",
    "        print(len(fact) <= 2)"
   ]
  },
  {
   "cell_type": "code",
   "execution_count": 82,
   "metadata": {},
   "outputs": [
    {
     "name": "stdout",
     "output_type": "stream",
     "text": [
      "False\n"
     ]
    }
   ],
   "source": [
    "is_prime(16)"
   ]
  },
  {
   "cell_type": "code",
   "execution_count": 83,
   "metadata": {},
   "outputs": [
    {
     "name": "stdout",
     "output_type": "stream",
     "text": [
      "True\n"
     ]
    }
   ],
   "source": [
    "is_prime(3)"
   ]
  },
  {
   "cell_type": "code",
   "execution_count": 84,
   "metadata": {},
   "outputs": [
    {
     "name": "stdout",
     "output_type": "stream",
     "text": [
      "True\n"
     ]
    }
   ],
   "source": [
    "is_prime(2)"
   ]
  },
  {
   "cell_type": "markdown",
   "metadata": {},
   "source": [
    "##### Factorial"
   ]
  },
  {
   "cell_type": "code",
   "execution_count": 87,
   "metadata": {},
   "outputs": [],
   "source": [
    "def get_factorial(n):\n",
    "    if n>=0:\n",
    "        if n in [0,1]:\n",
    "            return 1\n",
    "        else:\n",
    "            return n*get_factorial(n-1)"
   ]
  },
  {
   "cell_type": "code",
   "execution_count": 88,
   "metadata": {},
   "outputs": [
    {
     "name": "stdout",
     "output_type": "stream",
     "text": [
      "6\n"
     ]
    }
   ],
   "source": [
    "print(get_factorial(3))"
   ]
  },
  {
   "cell_type": "markdown",
   "metadata": {},
   "source": [
    "##### Palindrome"
   ]
  },
  {
   "cell_type": "code",
   "execution_count": 89,
   "metadata": {},
   "outputs": [],
   "source": [
    "def is_palimdrome(n):\n",
    "    str_1 = str(n)\n",
    "    str_rev = str_1[::-1]\n",
    "    print(str_1 == str_rev)"
   ]
  },
  {
   "cell_type": "code",
   "execution_count": 90,
   "metadata": {},
   "outputs": [
    {
     "name": "stdout",
     "output_type": "stream",
     "text": [
      "True\n"
     ]
    }
   ],
   "source": [
    "is_palimdrome(1)"
   ]
  },
  {
   "cell_type": "code",
   "execution_count": 91,
   "metadata": {},
   "outputs": [
    {
     "name": "stdout",
     "output_type": "stream",
     "text": [
      "True\n"
     ]
    }
   ],
   "source": [
    "is_palimdrome(121)"
   ]
  },
  {
   "cell_type": "code",
   "execution_count": 92,
   "metadata": {},
   "outputs": [
    {
     "name": "stdout",
     "output_type": "stream",
     "text": [
      "True\n"
     ]
    }
   ],
   "source": [
    "is_palimdrome(12321)"
   ]
  },
  {
   "cell_type": "code",
   "execution_count": 93,
   "metadata": {},
   "outputs": [
    {
     "name": "stdout",
     "output_type": "stream",
     "text": [
      "False\n"
     ]
    }
   ],
   "source": [
    "is_palimdrome(12345)"
   ]
  },
  {
   "cell_type": "markdown",
   "metadata": {},
   "source": [
    "##### Perfect Number"
   ]
  },
  {
   "cell_type": "code",
   "execution_count": 94,
   "metadata": {},
   "outputs": [],
   "source": [
    "import math\n",
    "def is_perfect(n):\n",
    "    fact = []\n",
    "    for i in range(1,int(math.sqrt(n))+1):\n",
    "        if n%i == 0:\n",
    "            fact.append(i)\n",
    "            if i != int(n/i):\n",
    "                fact.append(int(n/i))\n",
    "    fact.remove(n)\n",
    "    \n",
    "    sum_of_fact = 0\n",
    "    for i in fact:\n",
    "        sum_of_fact = sum_of_fact + i\n",
    "    print(sum_of_fact == n)"
   ]
  },
  {
   "cell_type": "code",
   "execution_count": 95,
   "metadata": {},
   "outputs": [
    {
     "name": "stdout",
     "output_type": "stream",
     "text": [
      "True\n"
     ]
    }
   ],
   "source": [
    "is_perfect(6)"
   ]
  },
  {
   "cell_type": "code",
   "execution_count": null,
   "metadata": {},
   "outputs": [],
   "source": []
  },
  {
   "cell_type": "code",
   "execution_count": null,
   "metadata": {},
   "outputs": [],
   "source": []
  },
  {
   "cell_type": "code",
   "execution_count": null,
   "metadata": {},
   "outputs": [],
   "source": []
  }
 ],
 "metadata": {
  "kernelspec": {
   "display_name": "Python 3",
   "language": "python",
   "name": "python3"
  },
  "language_info": {
   "codemirror_mode": {
    "name": "ipython",
    "version": 3
   },
   "file_extension": ".py",
   "mimetype": "text/x-python",
   "name": "python",
   "nbconvert_exporter": "python",
   "pygments_lexer": "ipython3",
   "version": "3.7.6"
  }
 },
 "nbformat": 4,
 "nbformat_minor": 4
}
