{
 "cells": [
  {
   "cell_type": "markdown",
   "metadata": {},
   "source": [
    "## 1.1 Binary Search\n"
   ]
  },
  {
   "cell_type": "code",
   "execution_count": 3,
   "metadata": {},
   "outputs": [
    {
     "name": "stdout",
     "output_type": "stream",
     "text": [
      "-1\n",
      "-1\n",
      "11\n"
     ]
    }
   ],
   "source": [
    "def binary_search(data,key):\n",
    "    l = 0\n",
    "    r = len(data) - 1\n",
    "    while l <= r:\n",
    "        mid = (l+r)//2\n",
    "        if key > data[mid]:\n",
    "            l = mid+1 # search in the right space\n",
    "        elif key < data[mid]:\n",
    "            r = mid-1 # search in the left space\n",
    "        else:\n",
    "            return mid\n",
    "    return -1\n",
    "\n",
    "\n",
    "# Returns index of the key in data if key is found\n",
    "# Returns -1 if key not found\n",
    "\n",
    "print(binary_search([3, 5, 7, 9, 11, 13, 15, 17, 19, 21, 23, 25, 27], 200))\n",
    "print(binary_search([3, 103, 1098], 200))\n",
    "print(binary_search([3, 5, 7, 9, 11, 13, 15, 17, 19, 21, 23, 25, 27], 25))"
   ]
  },
  {
   "cell_type": "markdown",
   "metadata": {},
   "source": [
    "## 1.2 Ternary Search"
   ]
  },
  {
   "cell_type": "markdown",
   "metadata": {},
   "source": [
    "Different posible location of key\n",
    "\n",
    "- Case 1: key == data[mid1]\n",
    "- Case 2: key < data[mid1] and key < data[mid2]\n",
    "- Case 3: key == data[mid2]\n",
    "- Case 4: data[mid1] < key < data[mid2]\n",
    "- Case 5: data[mid2] < key"
   ]
  },
  {
   "cell_type": "code",
   "execution_count": 5,
   "metadata": {},
   "outputs": [
    {
     "name": "stdout",
     "output_type": "stream",
     "text": [
      "-1\n",
      "-1\n",
      "11\n",
      "1\n"
     ]
    }
   ],
   "source": [
    "def ternary_search(data,key):\n",
    "    l = 0\n",
    "    r = len(data) -1\n",
    "    while l <= r:\n",
    "        mid1 = l + (r-l)//3\n",
    "        mid2 = r - (r-l)//3\n",
    "        if key == data[mid1]:\n",
    "            return mid1\n",
    "        elif key < data[mid1]:\n",
    "            r = mid1-1\n",
    "        elif key == data[mid2]:\n",
    "            return mid2\n",
    "        elif key > data[mid1] and key < data[mid2]:\n",
    "            l = mid1 + 1\n",
    "            r = mid2 - 1\n",
    "        else:\n",
    "            l = mid2 + 1\n",
    "    return -1\n",
    "\n",
    "print(ternary_search([3, 5, 7, 9, 11, 13, 15, 17, 19, 21, 23, 25, 27], 200))\n",
    "print(ternary_search([3, 103, 1098], 200))\n",
    "print(ternary_search([3, 5, 7, 9, 11, 13, 15, 17, 19, 21, 23, 25, 27], 25))\n",
    "print(ternary_search([3, 5, 7, 9, 11, 13, 15, 17, 19, 21, 23, 25, 27], 5))"
   ]
  },
  {
   "cell_type": "markdown",
   "metadata": {},
   "source": [
    "## 2.1 Insertion Sort"
   ]
  },
  {
   "cell_type": "code",
   "execution_count": 6,
   "metadata": {},
   "outputs": [
    {
     "name": "stdout",
     "output_type": "stream",
     "text": [
      "[1, 2, 3, 5, 7, 8, 23, 54]\n",
      "[-65, 1, 2, 3, 5, 7, 8, 23, 43, 54, 76, 100]\n"
     ]
    }
   ],
   "source": [
    "def insertion_sort(data):\n",
    "    for i in range(1,len(data)):\n",
    "        key = data[i]\n",
    "        # shift the elements larger than key to right by 1 \n",
    "        j = i-1\n",
    "        while j>=0 and key < data[j]:\n",
    "            data[j+1] = data[j]\n",
    "            j = j-1\n",
    "        # insert the key\n",
    "        data[j+1] = key\n",
    "    print(data)\n",
    "    \n",
    "insertion_sort([23,54,5,1,3,7,8,2])\n",
    "insertion_sort([23,54,5,1,3,43, 76,100,-65, 7,8,2])"
   ]
  },
  {
   "cell_type": "markdown",
   "metadata": {},
   "source": [
    "## 2.2 Selection Sort"
   ]
  },
  {
   "cell_type": "code",
   "execution_count": 5,
   "metadata": {},
   "outputs": [
    {
     "name": "stdout",
     "output_type": "stream",
     "text": [
      "[1, 2, 3, 5, 7, 8, 23, 54]\n",
      "[-65, 1, 2, 3, 5, 7, 8, 23, 43, 54, 76, 100]\n"
     ]
    }
   ],
   "source": [
    "def selection_sort(data):\n",
    "    for i in range(len(data)):\n",
    "        min_loc=i\n",
    "        for j in range(i+1, len(data)):\n",
    "            if data[j] < data[min_loc]:\n",
    "                min_loc=j\n",
    "        data[i], data[min_loc] = data[min_loc], data[i]\n",
    "    print(data)\n",
    "        \n",
    "selection_sort([23,54,5,1,3,7,8,2])\n",
    "selection_sort([23,54,5,1,3,43, 76,100,-65, 7,8,2])"
   ]
  },
  {
   "cell_type": "markdown",
   "metadata": {},
   "source": [
    "## 2.3 Bubble Sort"
   ]
  },
  {
   "cell_type": "code",
   "execution_count": 6,
   "metadata": {},
   "outputs": [
    {
     "name": "stdout",
     "output_type": "stream",
     "text": [
      "[1, 2, 3, 5, 7, 8, 23, 54]\n",
      "[-65, 1, 2, 3, 5, 7, 8, 23, 43, 54, 76, 100]\n"
     ]
    }
   ],
   "source": [
    "def bubble_sort(data):\n",
    "    n = len(data)\n",
    "    for i in range(n):\n",
    "        for j in range(0,n-i-1):\n",
    "            if data[j] > data[j+1]:\n",
    "                data[j], data[j+1] = data[j+1], data[j]\n",
    "    print(data)\n",
    "    \n",
    "bubble_sort([23,54,5,1,3,7,8,2])\n",
    "bubble_sort([23,54,5,1,3,43, 76,100,-65, 7,8,2])"
   ]
  },
  {
   "cell_type": "markdown",
   "metadata": {},
   "source": [
    "## 2.4 Merge Sort"
   ]
  },
  {
   "cell_type": "code",
   "execution_count": 7,
   "metadata": {},
   "outputs": [
    {
     "name": "stdout",
     "output_type": "stream",
     "text": [
      "[23]\n",
      "[54]\n",
      "[23, 54]\n",
      "[5]\n",
      "[1]\n",
      "[1, 5]\n",
      "[1, 5, 23, 54]\n",
      "[3]\n",
      "[7]\n",
      "[3, 7]\n",
      "[8]\n",
      "[2]\n",
      "[2, 8]\n",
      "[2, 3, 7, 2]\n",
      "[1, 2, 3, 5, 7, 2, 23, 54]\n",
      "[23]\n",
      "[54]\n",
      "[5]\n",
      "[5, 54]\n",
      "[5, 23, 5]\n",
      "[1]\n",
      "[3]\n",
      "[43]\n",
      "[3, 43]\n",
      "[1, 3, 43]\n",
      "[1, 3, 5, 23, 5, 43]\n",
      "[76]\n",
      "[100]\n",
      "[-65]\n",
      "[-65, 100]\n",
      "[-65, 76, -65]\n",
      "[7]\n",
      "[8]\n",
      "[2]\n",
      "[2, 8]\n",
      "[2, 7, 2]\n",
      "[-65, 2, 7, 2, 76, -65]\n",
      "[-65, 1, 2, 3, 5, 7, 2, 23, 5, 43, 8, 2]\n"
     ]
    }
   ],
   "source": [
    "def merge_sort(arr):\n",
    "    if len(arr) > 1:\n",
    "        mid = len(arr)//2\n",
    "        L = arr[:mid]\n",
    "        R = arr[mid:]\n",
    "        merge_sort(L)\n",
    "        merge_sort(R)\n",
    "        \n",
    "        i=j=k=0\n",
    "        \n",
    "        while i < len(L) and j < len(R):\n",
    "            if L[i] < R[j]:\n",
    "                arr[k] = L[i]\n",
    "                i = i+1\n",
    "            else:\n",
    "                arr[k] = R[j]\n",
    "                j = j+1\n",
    "            k = k+1\n",
    "        \n",
    "        while i < len(L):\n",
    "            arr[k] = L[i]\n",
    "            i = i+1\n",
    "            k = k+1\n",
    "        while j < len(R):\n",
    "            j = j+1\n",
    "            k = k+1\n",
    "    return arr\n",
    "print(merge_sort([23,54,5,1,3,7,8,2]))\n",
    "merge_sort([23,54,5,1,3,43, 76,100,-65, 7,8,2])"
   ]
  },
  {
   "cell_type": "markdown",
   "metadata": {},
   "source": [
    "## 2.5 Quick Sort"
   ]
  },
  {
   "cell_type": "code",
   "execution_count": null,
   "metadata": {},
   "outputs": [],
   "source": []
  }
 ],
 "metadata": {
  "kernelspec": {
   "display_name": "Python 3",
   "language": "python",
   "name": "python3"
  },
  "language_info": {
   "codemirror_mode": {
    "name": "ipython",
    "version": 3
   },
   "file_extension": ".py",
   "mimetype": "text/x-python",
   "name": "python",
   "nbconvert_exporter": "python",
   "pygments_lexer": "ipython3",
   "version": "3.7.6"
  }
 },
 "nbformat": 4,
 "nbformat_minor": 4
}
